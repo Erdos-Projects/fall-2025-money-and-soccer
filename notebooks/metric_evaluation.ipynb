{
 "cells": [
  {
   "cell_type": "markdown",
   "id": "6161d4fb",
   "metadata": {},
   "source": [
    "# Imports and Setup"
   ]
  },
  {
   "cell_type": "code",
   "execution_count": 3,
   "id": "da344a4e",
   "metadata": {},
   "outputs": [],
   "source": [
    "import sys, os\n",
    "# Ensure project root (one level up from notebooks/) is visible to Python\n",
    "sys.path.append(os.path.abspath(os.path.join(os.getcwd(), \"..\")))"
   ]
  },
  {
   "cell_type": "code",
   "execution_count": 4,
   "id": "22e85afa",
   "metadata": {},
   "outputs": [],
   "source": [
    "# ================================================\n",
    "# Metric Evaluation Notebook\n",
    "# ================================================\n",
    "# Evaluates baseline models under custom split strategies\n",
    "# and exports metrics to results/metrics_<split>_<date>.csv\n",
    "# ================================================\n",
    "\n",
    "import os\n",
    "import pandas as pd\n",
    "import numpy as np\n",
    "from datetime import datetime\n",
    "\n",
    "from sklearn.model_selection import cross_val_predict\n",
    "from sklearn.metrics import (\n",
    "    accuracy_score, precision_score, recall_score, f1_score,\n",
    "    roc_auc_score, average_precision_score, confusion_matrix,\n",
    "    classification_report, RocCurveDisplay, PrecisionRecallDisplay\n",
    ")\n",
    "from sklearn.calibration import calibration_curve\n",
    "from sklearn.preprocessing import StandardScaler\n",
    "from sklearn.pipeline import Pipeline\n",
    "from sklearn.linear_model import LogisticRegression\n",
    "import matplotlib.pyplot as plt\n",
    "import seaborn as sns\n",
    "\n",
    "# Custom splitters\n",
    "from src.splits.player_group_split import PlayerGroupSplit\n",
    "from src.splits.time_based_split import TimeBasedSplit\n",
    "\n",
    "# Global settings\n",
    "plt.style.use(\"seaborn-v0_8-whitegrid\")\n",
    "sns.set_context(\"talk\")"
   ]
  },
  {
   "cell_type": "markdown",
   "id": "73b34f19",
   "metadata": {},
   "source": [
    "# Load Dataset"
   ]
  },
  {
   "cell_type": "code",
   "execution_count": 5,
   "id": "4a00fd59",
   "metadata": {},
   "outputs": [
    {
     "name": "stdout",
     "output_type": "stream",
     "text": [
      "Loaded data: (4829, 20)\n"
     ]
    },
    {
     "data": {
      "text/html": [
       "<div>\n",
       "<style scoped>\n",
       "    .dataframe tbody tr th:only-of-type {\n",
       "        vertical-align: middle;\n",
       "    }\n",
       "\n",
       "    .dataframe tbody tr th {\n",
       "        vertical-align: top;\n",
       "    }\n",
       "\n",
       "    .dataframe thead th {\n",
       "        text-align: right;\n",
       "    }\n",
       "</style>\n",
       "<table border=\"1\" class=\"dataframe\">\n",
       "  <thead>\n",
       "    <tr style=\"text-align: right;\">\n",
       "      <th></th>\n",
       "      <th>from_league</th>\n",
       "      <th>to_league</th>\n",
       "      <th>Position</th>\n",
       "      <th>sub_position</th>\n",
       "      <th>position</th>\n",
       "      <th>foot</th>\n",
       "      <th>GA90_pre</th>\n",
       "      <th>GA_pre</th>\n",
       "      <th>PreMinutes</th>\n",
       "      <th>transfer_fee</th>\n",
       "      <th>market_value_in_eur</th>\n",
       "      <th>market_value_in_eur_player</th>\n",
       "      <th>highest_market_value_in_eur</th>\n",
       "      <th>country_of_birth</th>\n",
       "      <th>country_of_citizenship</th>\n",
       "      <th>height_in_cm</th>\n",
       "      <th>transfer_date</th>\n",
       "      <th>date_of_birth</th>\n",
       "      <th>contract_expiration_date</th>\n",
       "      <th>DeclineFlag</th>\n",
       "    </tr>\n",
       "  </thead>\n",
       "  <tbody>\n",
       "    <tr>\n",
       "      <th>0</th>\n",
       "      <td>GR1</td>\n",
       "      <td>TR1</td>\n",
       "      <td>Midfielder</td>\n",
       "      <td>Central Midfield</td>\n",
       "      <td>Midfield</td>\n",
       "      <td>left</td>\n",
       "      <td>0.091993</td>\n",
       "      <td>3.0</td>\n",
       "      <td>2935.0</td>\n",
       "      <td>0.0</td>\n",
       "      <td>2000000.0</td>\n",
       "      <td>1500000.0</td>\n",
       "      <td>14000000.0</td>\n",
       "      <td>Netherlands</td>\n",
       "      <td>Netherlands</td>\n",
       "      <td>175.0</td>\n",
       "      <td>2025-02-07</td>\n",
       "      <td>1995-01-03 00:00:00</td>\n",
       "      <td>2025-06-30 00:00:00</td>\n",
       "      <td>0.0</td>\n",
       "    </tr>\n",
       "    <tr>\n",
       "      <th>1</th>\n",
       "      <td>GB1</td>\n",
       "      <td>NL1</td>\n",
       "      <td>FullBack</td>\n",
       "      <td>Left-Back</td>\n",
       "      <td>Defender</td>\n",
       "      <td>left</td>\n",
       "      <td>0.000000</td>\n",
       "      <td>0.0</td>\n",
       "      <td>1276.0</td>\n",
       "      <td>0.0</td>\n",
       "      <td>15000000.0</td>\n",
       "      <td>12000000.0</td>\n",
       "      <td>22000000.0</td>\n",
       "      <td>Netherlands</td>\n",
       "      <td>Netherlands</td>\n",
       "      <td>169.0</td>\n",
       "      <td>2025-02-04</td>\n",
       "      <td>1999-08-17 00:00:00</td>\n",
       "      <td>2025-06-30 00:00:00</td>\n",
       "      <td>1.0</td>\n",
       "    </tr>\n",
       "    <tr>\n",
       "      <th>2</th>\n",
       "      <td>IT1</td>\n",
       "      <td>IT1</td>\n",
       "      <td>FullBack</td>\n",
       "      <td>Left-Back</td>\n",
       "      <td>Defender</td>\n",
       "      <td>left</td>\n",
       "      <td>0.288462</td>\n",
       "      <td>15.0</td>\n",
       "      <td>4680.0</td>\n",
       "      <td>0.0</td>\n",
       "      <td>2000000.0</td>\n",
       "      <td>2000000.0</td>\n",
       "      <td>12000000.0</td>\n",
       "      <td>Italy</td>\n",
       "      <td>Italy</td>\n",
       "      <td>185.0</td>\n",
       "      <td>2025-02-03</td>\n",
       "      <td>1992-09-01 00:00:00</td>\n",
       "      <td>2025-06-30 00:00:00</td>\n",
       "      <td>1.0</td>\n",
       "    </tr>\n",
       "    <tr>\n",
       "      <th>3</th>\n",
       "      <td>ES1</td>\n",
       "      <td>ES1</td>\n",
       "      <td>FullBack</td>\n",
       "      <td>Left-Back</td>\n",
       "      <td>Defender</td>\n",
       "      <td>left</td>\n",
       "      <td>0.275229</td>\n",
       "      <td>4.0</td>\n",
       "      <td>1308.0</td>\n",
       "      <td>0.0</td>\n",
       "      <td>2500000.0</td>\n",
       "      <td>2500000.0</td>\n",
       "      <td>20000000.0</td>\n",
       "      <td>Spain</td>\n",
       "      <td>Spain</td>\n",
       "      <td>170.0</td>\n",
       "      <td>2025-02-03</td>\n",
       "      <td>1993-03-01 00:00:00</td>\n",
       "      <td>2025-06-30 00:00:00</td>\n",
       "      <td>1.0</td>\n",
       "    </tr>\n",
       "    <tr>\n",
       "      <th>4</th>\n",
       "      <td>GB1</td>\n",
       "      <td>SC1</td>\n",
       "      <td>Midfielder</td>\n",
       "      <td>Left Midfield</td>\n",
       "      <td>Midfield</td>\n",
       "      <td>left</td>\n",
       "      <td>0.284710</td>\n",
       "      <td>9.0</td>\n",
       "      <td>2845.0</td>\n",
       "      <td>0.0</td>\n",
       "      <td>6000000.0</td>\n",
       "      <td>5000000.0</td>\n",
       "      <td>12000000.0</td>\n",
       "      <td>Germany</td>\n",
       "      <td>Ghana</td>\n",
       "      <td>178.0</td>\n",
       "      <td>2025-02-03</td>\n",
       "      <td>1992-12-23 00:00:00</td>\n",
       "      <td>2025-05-31 00:00:00</td>\n",
       "      <td>1.0</td>\n",
       "    </tr>\n",
       "  </tbody>\n",
       "</table>\n",
       "</div>"
      ],
      "text/plain": [
       "  from_league to_league    Position      sub_position  position  foot  \\\n",
       "0         GR1       TR1  Midfielder  Central Midfield  Midfield  left   \n",
       "1         GB1       NL1    FullBack         Left-Back  Defender  left   \n",
       "2         IT1       IT1    FullBack         Left-Back  Defender  left   \n",
       "3         ES1       ES1    FullBack         Left-Back  Defender  left   \n",
       "4         GB1       SC1  Midfielder     Left Midfield  Midfield  left   \n",
       "\n",
       "   GA90_pre  GA_pre  PreMinutes  transfer_fee  market_value_in_eur  \\\n",
       "0  0.091993     3.0      2935.0           0.0            2000000.0   \n",
       "1  0.000000     0.0      1276.0           0.0           15000000.0   \n",
       "2  0.288462    15.0      4680.0           0.0            2000000.0   \n",
       "3  0.275229     4.0      1308.0           0.0            2500000.0   \n",
       "4  0.284710     9.0      2845.0           0.0            6000000.0   \n",
       "\n",
       "   market_value_in_eur_player  highest_market_value_in_eur country_of_birth  \\\n",
       "0                   1500000.0                   14000000.0      Netherlands   \n",
       "1                  12000000.0                   22000000.0      Netherlands   \n",
       "2                   2000000.0                   12000000.0            Italy   \n",
       "3                   2500000.0                   20000000.0            Spain   \n",
       "4                   5000000.0                   12000000.0          Germany   \n",
       "\n",
       "  country_of_citizenship  height_in_cm transfer_date        date_of_birth  \\\n",
       "0            Netherlands         175.0    2025-02-07  1995-01-03 00:00:00   \n",
       "1            Netherlands         169.0    2025-02-04  1999-08-17 00:00:00   \n",
       "2                  Italy         185.0    2025-02-03  1992-09-01 00:00:00   \n",
       "3                  Spain         170.0    2025-02-03  1993-03-01 00:00:00   \n",
       "4                  Ghana         178.0    2025-02-03  1992-12-23 00:00:00   \n",
       "\n",
       "  contract_expiration_date  DeclineFlag  \n",
       "0      2025-06-30 00:00:00          0.0  \n",
       "1      2025-06-30 00:00:00          1.0  \n",
       "2      2025-06-30 00:00:00          1.0  \n",
       "3      2025-06-30 00:00:00          1.0  \n",
       "4      2025-05-31 00:00:00          1.0  "
      ]
     },
     "execution_count": 5,
     "metadata": {},
     "output_type": "execute_result"
    }
   ],
   "source": [
    "# ================================================\n",
    "# Load processed dataset\n",
    "# ================================================\n",
    "\n",
    "DATA_PATH = \"../data/processed/merged_clean_refined.csv\"\n",
    "df = pd.read_csv(DATA_PATH)\n",
    "\n",
    "print(\"Loaded data:\", df.shape)\n",
    "df.head()"
   ]
  },
  {
   "cell_type": "markdown",
   "id": "df3b9fd7",
   "metadata": {},
   "source": [
    "# Define Features and Target"
   ]
  },
  {
   "cell_type": "code",
   "execution_count": 6,
   "id": "b4996f28",
   "metadata": {},
   "outputs": [
    {
     "name": "stdout",
     "output_type": "stream",
     "text": [
      "X shape: (4829, 19)\n",
      "y distribution:\n",
      "DeclineFlag\n",
      "0.0    0.6082\n",
      "1.0    0.3918\n",
      "Name: proportion, dtype: float64\n"
     ]
    }
   ],
   "source": [
    "# ================================================\n",
    "# Feature/Target Definition\n",
    "# ================================================\n",
    "\n",
    "TARGET = \"DeclineFlag\"\n",
    "FEATURES = [col for col in df.columns if col != TARGET]\n",
    "\n",
    "X = df[FEATURES]\n",
    "y = df[TARGET]\n",
    "\n",
    "# Drop rows with missing targets\n",
    "X = X[~y.isna()]\n",
    "y = y.dropna()\n",
    "\n",
    "print(\"X shape:\", X.shape)\n",
    "print(\"y distribution:\")\n",
    "print(y.value_counts(normalize=True))\n"
   ]
  },
  {
   "cell_type": "markdown",
   "id": "8b9ad12c",
   "metadata": {},
   "source": [
    "# Encode Categorical Columns"
   ]
  },
  {
   "cell_type": "code",
   "execution_count": 7,
   "id": "30839cc0",
   "metadata": {},
   "outputs": [
    {
     "name": "stdout",
     "output_type": "stream",
     "text": [
      "Encoded features: 2243\n"
     ]
    },
    {
     "data": {
      "text/html": [
       "<div>\n",
       "<style scoped>\n",
       "    .dataframe tbody tr th:only-of-type {\n",
       "        vertical-align: middle;\n",
       "    }\n",
       "\n",
       "    .dataframe tbody tr th {\n",
       "        vertical-align: top;\n",
       "    }\n",
       "\n",
       "    .dataframe thead th {\n",
       "        text-align: right;\n",
       "    }\n",
       "</style>\n",
       "<table border=\"1\" class=\"dataframe\">\n",
       "  <thead>\n",
       "    <tr style=\"text-align: right;\">\n",
       "      <th></th>\n",
       "      <th>GA90_pre</th>\n",
       "      <th>GA_pre</th>\n",
       "      <th>PreMinutes</th>\n",
       "      <th>transfer_fee</th>\n",
       "      <th>market_value_in_eur</th>\n",
       "      <th>market_value_in_eur_player</th>\n",
       "      <th>highest_market_value_in_eur</th>\n",
       "      <th>height_in_cm</th>\n",
       "      <th>from_league_DK1</th>\n",
       "      <th>from_league_ES1</th>\n",
       "      <th>...</th>\n",
       "      <th>contract_expiration_date_2028-05-31 00:00:00</th>\n",
       "      <th>contract_expiration_date_2028-06-30 00:00:00</th>\n",
       "      <th>contract_expiration_date_2028-09-30 00:00:00</th>\n",
       "      <th>contract_expiration_date_2028-12-31 00:00:00</th>\n",
       "      <th>contract_expiration_date_2029-06-30 00:00:00</th>\n",
       "      <th>contract_expiration_date_2030-06-30 00:00:00</th>\n",
       "      <th>contract_expiration_date_2031-06-30 00:00:00</th>\n",
       "      <th>contract_expiration_date_2032-06-30 00:00:00</th>\n",
       "      <th>contract_expiration_date_2033-06-30 00:00:00</th>\n",
       "      <th>contract_expiration_date_2034-06-30 00:00:00</th>\n",
       "    </tr>\n",
       "  </thead>\n",
       "  <tbody>\n",
       "    <tr>\n",
       "      <th>0</th>\n",
       "      <td>0.091993</td>\n",
       "      <td>3.0</td>\n",
       "      <td>2935.0</td>\n",
       "      <td>0.0</td>\n",
       "      <td>2000000.0</td>\n",
       "      <td>1500000.0</td>\n",
       "      <td>14000000.0</td>\n",
       "      <td>175.0</td>\n",
       "      <td>False</td>\n",
       "      <td>False</td>\n",
       "      <td>...</td>\n",
       "      <td>False</td>\n",
       "      <td>False</td>\n",
       "      <td>False</td>\n",
       "      <td>False</td>\n",
       "      <td>False</td>\n",
       "      <td>False</td>\n",
       "      <td>False</td>\n",
       "      <td>False</td>\n",
       "      <td>False</td>\n",
       "      <td>False</td>\n",
       "    </tr>\n",
       "    <tr>\n",
       "      <th>1</th>\n",
       "      <td>0.000000</td>\n",
       "      <td>0.0</td>\n",
       "      <td>1276.0</td>\n",
       "      <td>0.0</td>\n",
       "      <td>15000000.0</td>\n",
       "      <td>12000000.0</td>\n",
       "      <td>22000000.0</td>\n",
       "      <td>169.0</td>\n",
       "      <td>False</td>\n",
       "      <td>False</td>\n",
       "      <td>...</td>\n",
       "      <td>False</td>\n",
       "      <td>False</td>\n",
       "      <td>False</td>\n",
       "      <td>False</td>\n",
       "      <td>False</td>\n",
       "      <td>False</td>\n",
       "      <td>False</td>\n",
       "      <td>False</td>\n",
       "      <td>False</td>\n",
       "      <td>False</td>\n",
       "    </tr>\n",
       "    <tr>\n",
       "      <th>2</th>\n",
       "      <td>0.288462</td>\n",
       "      <td>15.0</td>\n",
       "      <td>4680.0</td>\n",
       "      <td>0.0</td>\n",
       "      <td>2000000.0</td>\n",
       "      <td>2000000.0</td>\n",
       "      <td>12000000.0</td>\n",
       "      <td>185.0</td>\n",
       "      <td>False</td>\n",
       "      <td>False</td>\n",
       "      <td>...</td>\n",
       "      <td>False</td>\n",
       "      <td>False</td>\n",
       "      <td>False</td>\n",
       "      <td>False</td>\n",
       "      <td>False</td>\n",
       "      <td>False</td>\n",
       "      <td>False</td>\n",
       "      <td>False</td>\n",
       "      <td>False</td>\n",
       "      <td>False</td>\n",
       "    </tr>\n",
       "    <tr>\n",
       "      <th>3</th>\n",
       "      <td>0.275229</td>\n",
       "      <td>4.0</td>\n",
       "      <td>1308.0</td>\n",
       "      <td>0.0</td>\n",
       "      <td>2500000.0</td>\n",
       "      <td>2500000.0</td>\n",
       "      <td>20000000.0</td>\n",
       "      <td>170.0</td>\n",
       "      <td>False</td>\n",
       "      <td>True</td>\n",
       "      <td>...</td>\n",
       "      <td>False</td>\n",
       "      <td>False</td>\n",
       "      <td>False</td>\n",
       "      <td>False</td>\n",
       "      <td>False</td>\n",
       "      <td>False</td>\n",
       "      <td>False</td>\n",
       "      <td>False</td>\n",
       "      <td>False</td>\n",
       "      <td>False</td>\n",
       "    </tr>\n",
       "    <tr>\n",
       "      <th>4</th>\n",
       "      <td>0.284710</td>\n",
       "      <td>9.0</td>\n",
       "      <td>2845.0</td>\n",
       "      <td>0.0</td>\n",
       "      <td>6000000.0</td>\n",
       "      <td>5000000.0</td>\n",
       "      <td>12000000.0</td>\n",
       "      <td>178.0</td>\n",
       "      <td>False</td>\n",
       "      <td>False</td>\n",
       "      <td>...</td>\n",
       "      <td>False</td>\n",
       "      <td>False</td>\n",
       "      <td>False</td>\n",
       "      <td>False</td>\n",
       "      <td>False</td>\n",
       "      <td>False</td>\n",
       "      <td>False</td>\n",
       "      <td>False</td>\n",
       "      <td>False</td>\n",
       "      <td>False</td>\n",
       "    </tr>\n",
       "  </tbody>\n",
       "</table>\n",
       "<p>5 rows × 2243 columns</p>\n",
       "</div>"
      ],
      "text/plain": [
       "   GA90_pre  GA_pre  PreMinutes  transfer_fee  market_value_in_eur  \\\n",
       "0  0.091993     3.0      2935.0           0.0            2000000.0   \n",
       "1  0.000000     0.0      1276.0           0.0           15000000.0   \n",
       "2  0.288462    15.0      4680.0           0.0            2000000.0   \n",
       "3  0.275229     4.0      1308.0           0.0            2500000.0   \n",
       "4  0.284710     9.0      2845.0           0.0            6000000.0   \n",
       "\n",
       "   market_value_in_eur_player  highest_market_value_in_eur  height_in_cm  \\\n",
       "0                   1500000.0                   14000000.0         175.0   \n",
       "1                  12000000.0                   22000000.0         169.0   \n",
       "2                   2000000.0                   12000000.0         185.0   \n",
       "3                   2500000.0                   20000000.0         170.0   \n",
       "4                   5000000.0                   12000000.0         178.0   \n",
       "\n",
       "   from_league_DK1  from_league_ES1  ...  \\\n",
       "0            False            False  ...   \n",
       "1            False            False  ...   \n",
       "2            False            False  ...   \n",
       "3            False             True  ...   \n",
       "4            False            False  ...   \n",
       "\n",
       "   contract_expiration_date_2028-05-31 00:00:00  \\\n",
       "0                                         False   \n",
       "1                                         False   \n",
       "2                                         False   \n",
       "3                                         False   \n",
       "4                                         False   \n",
       "\n",
       "   contract_expiration_date_2028-06-30 00:00:00  \\\n",
       "0                                         False   \n",
       "1                                         False   \n",
       "2                                         False   \n",
       "3                                         False   \n",
       "4                                         False   \n",
       "\n",
       "   contract_expiration_date_2028-09-30 00:00:00  \\\n",
       "0                                         False   \n",
       "1                                         False   \n",
       "2                                         False   \n",
       "3                                         False   \n",
       "4                                         False   \n",
       "\n",
       "   contract_expiration_date_2028-12-31 00:00:00  \\\n",
       "0                                         False   \n",
       "1                                         False   \n",
       "2                                         False   \n",
       "3                                         False   \n",
       "4                                         False   \n",
       "\n",
       "   contract_expiration_date_2029-06-30 00:00:00  \\\n",
       "0                                         False   \n",
       "1                                         False   \n",
       "2                                         False   \n",
       "3                                         False   \n",
       "4                                         False   \n",
       "\n",
       "   contract_expiration_date_2030-06-30 00:00:00  \\\n",
       "0                                         False   \n",
       "1                                         False   \n",
       "2                                         False   \n",
       "3                                         False   \n",
       "4                                         False   \n",
       "\n",
       "   contract_expiration_date_2031-06-30 00:00:00  \\\n",
       "0                                         False   \n",
       "1                                         False   \n",
       "2                                         False   \n",
       "3                                         False   \n",
       "4                                         False   \n",
       "\n",
       "   contract_expiration_date_2032-06-30 00:00:00  \\\n",
       "0                                         False   \n",
       "1                                         False   \n",
       "2                                         False   \n",
       "3                                         False   \n",
       "4                                         False   \n",
       "\n",
       "   contract_expiration_date_2033-06-30 00:00:00  \\\n",
       "0                                         False   \n",
       "1                                         False   \n",
       "2                                         False   \n",
       "3                                         False   \n",
       "4                                         False   \n",
       "\n",
       "   contract_expiration_date_2034-06-30 00:00:00  \n",
       "0                                         False  \n",
       "1                                         False  \n",
       "2                                         False  \n",
       "3                                         False  \n",
       "4                                         False  \n",
       "\n",
       "[5 rows x 2243 columns]"
      ]
     },
     "execution_count": 7,
     "metadata": {},
     "output_type": "execute_result"
    }
   ],
   "source": [
    "# ================================================\n",
    "# Encode Categorical Features\n",
    "# ================================================\n",
    "\n",
    "categorical_cols = X.select_dtypes(include=[\"object\"]).columns\n",
    "X_encoded = pd.get_dummies(X, columns=categorical_cols, drop_first=True)\n",
    "\n",
    "print(\"Encoded features:\", X_encoded.shape[1])\n",
    "X_encoded.head()\n"
   ]
  },
  {
   "cell_type": "markdown",
   "id": "0da849de",
   "metadata": {},
   "source": [
    "# Choose Split Strategy"
   ]
  },
  {
   "cell_type": "code",
   "execution_count": 12,
   "id": "cb977ad4",
   "metadata": {},
   "outputs": [
    {
     "name": "stdout",
     "output_type": "stream",
     "text": [
      "Using player_group_split with group column: from_league\n"
     ]
    }
   ],
   "source": [
    "# ================================================\n",
    "# Choose and initialize split strategy\n",
    "# ================================================\n",
    "\n",
    "# Group by league (best available proxy for entity-level leakage)\n",
    "group_col = \"from_league\"  # could also test \"to_league\"\n",
    "\n",
    "splitter_name = \"player_group_split\"\n",
    "splitter = PlayerGroupSplit(n_splits=5, random_state=42)\n",
    "\n",
    "print(f\"Using {splitter_name} with group column: {group_col}\")"
   ]
  },
  {
   "cell_type": "markdown",
   "id": "1d25f9c9",
   "metadata": {},
   "source": [
    "# Define Baseline Model Pipeline"
   ]
  },
  {
   "cell_type": "code",
   "execution_count": 17,
   "id": "b84cc7fe",
   "metadata": {},
   "outputs": [
    {
     "name": "stdout",
     "output_type": "stream",
     "text": [
      "Pipeline(steps=[('imputer', SimpleImputer(strategy='median')),\n",
      "                ('scaler', StandardScaler(with_mean=False)),\n",
      "                ('clf',\n",
      "                 LogisticRegression(class_weight='balanced', max_iter=1000))])\n"
     ]
    }
   ],
   "source": [
    "# ================================================\n",
    "# Baseline model: Logistic Regression (with imputation)\n",
    "# ================================================\n",
    "\n",
    "from sklearn.impute import SimpleImputer\n",
    "\n",
    "pipe = Pipeline([\n",
    "    (\"imputer\", SimpleImputer(strategy=\"median\")),   # fill missing values\n",
    "    (\"scaler\", StandardScaler(with_mean=False)),     # works with sparse matrices\n",
    "    (\"clf\", LogisticRegression(max_iter=1000, class_weight=\"balanced\"))\n",
    "])\n",
    "\n",
    "print(pipe)\n"
   ]
  },
  {
   "cell_type": "markdown",
   "id": "e0b82f63",
   "metadata": {},
   "source": [
    "# Cross-Validation Predictions"
   ]
  },
  {
   "cell_type": "code",
   "execution_count": 18,
   "id": "e6475254",
   "metadata": {},
   "outputs": [
    {
     "data": {
      "text/plain": [
       "['from_league',\n",
       " 'to_league',\n",
       " 'Position',\n",
       " 'sub_position',\n",
       " 'position',\n",
       " 'foot',\n",
       " 'GA90_pre',\n",
       " 'GA_pre',\n",
       " 'PreMinutes',\n",
       " 'transfer_fee',\n",
       " 'market_value_in_eur',\n",
       " 'market_value_in_eur_player',\n",
       " 'highest_market_value_in_eur',\n",
       " 'country_of_birth',\n",
       " 'country_of_citizenship',\n",
       " 'height_in_cm',\n",
       " 'transfer_date',\n",
       " 'date_of_birth',\n",
       " 'contract_expiration_date',\n",
       " 'DeclineFlag']"
      ]
     },
     "execution_count": 18,
     "metadata": {},
     "output_type": "execute_result"
    }
   ],
   "source": [
    "df.columns.tolist()\n"
   ]
  },
  {
   "cell_type": "code",
   "execution_count": 19,
   "id": "5e699c22",
   "metadata": {},
   "outputs": [
    {
     "name": "stdout",
     "output_type": "stream",
     "text": [
      "Predictions complete.\n"
     ]
    }
   ],
   "source": [
    "# ================================================\n",
    "# Run cross-validation predictions (safe version)\n",
    "# ================================================\n",
    "\n",
    "# Clean group column (avoid str/float mix)\n",
    "groups = None\n",
    "if group_col:\n",
    "    groups = df[group_col].fillna(\"UnknownLeague\").astype(str)\n",
    "\n",
    "pred_proba = cross_val_predict(\n",
    "    pipe,\n",
    "    X_encoded,\n",
    "    y,\n",
    "    cv=splitter.split(X_encoded, y, groups=groups),\n",
    "    method=\"predict_proba\"\n",
    ")[:, 1]\n",
    "\n",
    "pred_label = (pred_proba >= 0.5).astype(int)\n",
    "print(\"Predictions complete.\")"
   ]
  },
  {
   "cell_type": "code",
   "execution_count": 21,
   "id": "dbb9a16f",
   "metadata": {},
   "outputs": [
    {
     "name": "stdout",
     "output_type": "stream",
     "text": [
      "Metadata saved to ../results/metadata_player_group_split_20251008_174154.json\n"
     ]
    }
   ],
   "source": [
    "# ================================================\n",
    "# Add metadata logging (self-contained)\n",
    "# ================================================\n",
    "\n",
    "import os, json\n",
    "from datetime import datetime\n",
    "\n",
    "# If timestamp wasn't defined yet, create it now\n",
    "if \"timestamp\" not in locals():\n",
    "    timestamp = datetime.now().strftime(\"%Y%m%d_%H%M%S\")\n",
    "\n",
    "metadata = {\n",
    "    \"timestamp\": timestamp,\n",
    "    \"splitter\": splitter_name,\n",
    "    \"group_column\": group_col,\n",
    "    \"n_splits\": splitter.get_n_splits(),\n",
    "    \"samples\": len(df),\n",
    "    \"features\": len(X_encoded.columns)\n",
    "}\n",
    "\n",
    "os.makedirs(\"../results\", exist_ok=True)\n",
    "meta_path = f\"../results/metadata_{splitter_name}_{timestamp}.json\"\n",
    "\n",
    "with open(meta_path, \"w\") as f:\n",
    "    json.dump(metadata, f, indent=4)\n",
    "\n",
    "print(f\"Metadata saved to {meta_path}\")\n"
   ]
  },
  {
   "cell_type": "markdown",
   "id": "62fcd08c",
   "metadata": {},
   "source": [
    "# Import Stress Test Modules"
   ]
  },
  {
   "cell_type": "code",
   "execution_count": 24,
   "id": "84cd6891",
   "metadata": {},
   "outputs": [
    {
     "name": "stdout",
     "output_type": "stream",
     "text": [
      "Stress test modules imported successfully.\n"
     ]
    }
   ],
   "source": [
    "# ================================================\n",
    "# Import Stress Test Modules\n",
    "# ================================================\n",
    "\n",
    "from src.eval.outlier_test import run_outlier_test\n",
    "from src.eval.shift_test import run_shift_test\n",
    "from src.eval.leakage_test import run_leakage_test\n",
    "\n",
    "print(\"Stress test modules imported successfully.\")"
   ]
  },
  {
   "cell_type": "markdown",
   "id": "e37cca55",
   "metadata": {},
   "source": [
    "# Run Outlier Test"
   ]
  },
  {
   "cell_type": "code",
   "execution_count": 26,
   "id": "b4fa670d",
   "metadata": {},
   "outputs": [
    {
     "name": "stdout",
     "output_type": "stream",
     "text": [
      "Reloaded outlier_test.py ✅\n"
     ]
    }
   ],
   "source": [
    "import importlib, src.eval.outlier_test\n",
    "importlib.reload(src.eval.outlier_test)\n",
    "from src.eval.outlier_test import run_outlier_test\n",
    "print(\"Reloaded outlier_test.py ✅\")"
   ]
  },
  {
   "cell_type": "code",
   "execution_count": 27,
   "id": "c1c3e60e",
   "metadata": {},
   "outputs": [
    {
     "name": "stdout",
     "output_type": "stream",
     "text": [
      "Running Outlier Sensitivity Test...\n",
      "[Outlier Test] Results saved to ../results/stress_tests/outlier_test_transfer_fee_20251008_174955.json\n",
      "\n",
      "Outlier Test completed.\n",
      "Performance before and after removing top 1% of transfer fees:\n",
      "                  Accuracy  Precision    Recall        F1   ROC_AUC    PR_AUC\n",
      "Full Dataset      0.662042   0.566530  0.585095  0.575663  0.707235  0.587043\n",
      "Without Outliers  0.668741   0.576516  0.569544  0.573009  0.703154  0.582878\n"
     ]
    }
   ],
   "source": [
    "# ================================================\n",
    "# Stress Test 1: Outlier Sensitivity\n",
    "# ================================================\n",
    "\n",
    "print(\"Running Outlier Sensitivity Test...\")\n",
    "outlier_results = run_outlier_test(\n",
    "    pipe=pipe,\n",
    "    X=X_encoded,\n",
    "    y=y,\n",
    "    splitter=splitter,\n",
    "    df=df,\n",
    "    feature=\"transfer_fee\",\n",
    "    group_col=group_col\n",
    ")\n",
    "\n",
    "print(\"\\nOutlier Test completed.\")\n",
    "print(\"Performance before and after removing top 1% of transfer fees:\")\n",
    "print(pd.DataFrame([outlier_results[\"metrics_full\"], outlier_results[\"metrics_reduced\"]],\n",
    "                   index=[\"Full Dataset\", \"Without Outliers\"]))\n"
   ]
  },
  {
   "cell_type": "markdown",
   "id": "abae1f60",
   "metadata": {},
   "source": [
    "# Run Distribution-Shift Test"
   ]
  },
  {
   "cell_type": "code",
   "execution_count": 28,
   "id": "203e300c",
   "metadata": {},
   "outputs": [
    {
     "name": "stdout",
     "output_type": "stream",
     "text": [
      "Running Distribution-Shift Test by League...\n",
      "[Shift Test] Results saved to ../results/stress_tests/shift_test_from_league_20251008_175017.json\n",
      "\n",
      "Shift Test completed.\n",
      "            F1   ROC_AUC\n",
      "GB1   1.000000  1.000000\n",
      "IT1   0.994536  0.998945\n",
      "ES1   0.988506  0.999534\n",
      "FR1   0.989474  0.999817\n",
      "TR1   1.000000  1.000000\n",
      "L1    0.998012  1.000000\n",
      "NL1   1.000000  1.000000\n",
      "RU1   1.000000  1.000000\n",
      "BE1   1.000000  1.000000\n",
      "PO1   1.000000  1.000000\n",
      "DK1   1.000000  1.000000\n",
      "SC1   1.000000  1.000000\n",
      "UKR1  1.000000  1.000000\n"
     ]
    }
   ],
   "source": [
    "# ================================================\n",
    "# Stress Test 2: Distribution Shift (Leagues)\n",
    "# ================================================\n",
    "\n",
    "print(\"Running Distribution-Shift Test by League...\")\n",
    "shift_results = run_shift_test(\n",
    "    pipe=pipe,\n",
    "    X=X_encoded,\n",
    "    y=y,\n",
    "    df=df,\n",
    "    cohort_col=\"from_league\"\n",
    ")\n",
    "\n",
    "print(\"\\nShift Test completed.\")\n",
    "print(pd.DataFrame.from_dict(shift_results, orient=\"index\"))\n"
   ]
  },
  {
   "cell_type": "markdown",
   "id": "be73baf7",
   "metadata": {},
   "source": [
    "# Run Adversarial Leakage Test"
   ]
  },
  {
   "cell_type": "code",
   "execution_count": 31,
   "id": "428b10d4",
   "metadata": {},
   "outputs": [
    {
     "name": "stdout",
     "output_type": "stream",
     "text": [
      "Reloaded leakage_test.py ✅\n"
     ]
    }
   ],
   "source": [
    "import importlib, src.eval.leakage_test\n",
    "importlib.reload(src.eval.leakage_test)\n",
    "from src.eval.leakage_test import run_leakage_test\n",
    "print(\"Reloaded leakage_test.py ✅\")"
   ]
  },
  {
   "cell_type": "code",
   "execution_count": 32,
   "id": "47883f87",
   "metadata": {},
   "outputs": [
    {
     "name": "stdout",
     "output_type": "stream",
     "text": [
      "Running Adversarial Leakage Test (shuffled targets)...\n",
      "[Leakage Test] Results saved to ../results/stress_tests/leakage_test_20251008_175255.json\n",
      "\n",
      "Leakage Test completed.\n",
      "         timestamp  mean_f1_shuffled  std_f1_shuffled\n",
      "0  20251008_175255          0.426877         0.043092\n"
     ]
    }
   ],
   "source": [
    "# ================================================\n",
    "# Stress Test 3: Adversarial Leakage Check\n",
    "# ================================================\n",
    "\n",
    "print(\"Running Adversarial Leakage Test (shuffled targets)...\")\n",
    "leakage_results = run_leakage_test(\n",
    "    pipe=pipe,\n",
    "    X=X_encoded,\n",
    "    y=y,\n",
    "    splitter=splitter,\n",
    "    df=df,\n",
    "    group_col=group_col  # <── added this\n",
    ")\n",
    "\n",
    "\n",
    "print(\"\\nLeakage Test completed.\")\n",
    "print(pd.DataFrame([leakage_results]))\n"
   ]
  },
  {
   "cell_type": "markdown",
   "id": "5658e40b",
   "metadata": {},
   "source": [
    "# Combined Summary Logging"
   ]
  },
  {
   "cell_type": "code",
   "execution_count": 33,
   "id": "7971c787",
   "metadata": {},
   "outputs": [
    {
     "name": "stdout",
     "output_type": "stream",
     "text": [
      "\n",
      "✅ Combined stress test summary saved to: ../results/stress_tests/stress_summary_20251008_175311.json\n"
     ]
    }
   ],
   "source": [
    "# ================================================\n",
    "# Combine All Stress Test Results and Save Summary\n",
    "# ================================================\n",
    "\n",
    "import json\n",
    "from datetime import datetime\n",
    "\n",
    "summary = {\n",
    "    \"timestamp\": datetime.now().strftime(\"%Y%m%d_%H%M%S\"),\n",
    "    \"splitter\": splitter_name,\n",
    "    \"group_column\": group_col,\n",
    "    \"outlier_metrics\": {\n",
    "        \"before\": outlier_results[\"metrics_full\"],\n",
    "        \"after\": outlier_results[\"metrics_reduced\"]\n",
    "    },\n",
    "    \"shift_metrics\": shift_results,\n",
    "    \"leakage_metrics\": leakage_results\n",
    "}\n",
    "\n",
    "os.makedirs(\"../results/stress_tests\", exist_ok=True)\n",
    "summary_path = f\"../results/stress_tests/stress_summary_{summary['timestamp']}.json\"\n",
    "\n",
    "with open(summary_path, \"w\") as f:\n",
    "    json.dump(summary, f, indent=4)\n",
    "\n",
    "print(f\"\\n✅ Combined stress test summary saved to: {summary_path}\")\n"
   ]
  },
  {
   "cell_type": "code",
   "execution_count": 40,
   "id": "2e2ed07e",
   "metadata": {},
   "outputs": [
    {
     "data": {
      "image/png": "[encoded data removed]",
      "text/plain": [
       "<Figure size 1200x600 with 1 Axes>"
      ]
     },
     "metadata": {},
     "output_type": "display_data"
    }
   ],
   "source": [
    "# ================================================\n",
    "# Optional: Visual Comparison of Stress Test Results\n",
    "# ================================================\n",
    "\n",
    "import matplotlib.pyplot as plt\n",
    "\n",
    "# Outlier impact\n",
    "before = outlier_results[\"metrics_full\"]\n",
    "after = outlier_results[\"metrics_reduced\"]\n",
    "\n",
    "plt.figure(figsize=(12,6))\n",
    "plt.bar(before.keys(), before.values(), alpha=0.6, label=\"Full Dataset\")\n",
    "plt.bar(after.keys(), after.values(), alpha=0.6, label=\"Without Outliers\")\n",
    "plt.xticks(rotation=45)\n",
    "plt.ylabel(\"Score\")\n",
    "plt.title(\"Impact of Outliers on Model Metrics\")\n",
    "\n",
    "# Legend outside top-right, white background, no overlay\n",
    "plt.legend(\n",
    "    loc=\"upper left\",\n",
    "    bbox_to_anchor=(1.02, 1),   # move it just outside the plot\n",
    "    facecolor=\"white\",\n",
    "    framealpha=1,\n",
    "    edgecolor=\"black\"\n",
    ")\n",
    "\n",
    "plt.tight_layout(rect=[0, 0, 0.85, 1])  # leave space on the right for legend\n",
    "plt.show()\n"
   ]
  }
 ],
 "metadata": {
  "kernelspec": {
   "display_name": "Python 3",
   "language": "python",
   "name": "python3"
  },
  "language_info": {
   "codemirror_mode": {
    "name": "ipython",
    "version": 3
   },
   "file_extension": ".py",
   "mimetype": "text/x-python",
   "name": "python",
   "nbconvert_exporter": "python",
   "pygments_lexer": "ipython3",
   "version": "3.10.0"
  }
 },
 "nbformat": 4,
 "nbformat_minor": 5
}
