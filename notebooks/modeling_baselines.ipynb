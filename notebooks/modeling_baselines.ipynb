{
 "cells": [
  {
   "cell_type": "markdown",
   "id": "6f037b64",
   "metadata": {},
   "source": [
    "# Imports & Configuration"
   ]
  },
  {
   "cell_type": "code",
   "execution_count": 9,
   "id": "85f525cd",
   "metadata": {},
   "outputs": [],
   "source": [
    "import sys, os\n",
    "# Ensure project root (one level up from notebooks/) is visible to Python\n",
    "sys.path.append(os.path.abspath(os.path.join(os.getcwd(), \"..\")))"
   ]
  },
  {
   "cell_type": "code",
   "execution_count": 16,
   "id": "432114e4",
   "metadata": {},
   "outputs": [],
   "source": [
    "# Core libraries\n",
    "import pandas as pd\n",
    "import numpy as np\n",
    "\n",
    "# Modeling\n",
    "from sklearn.model_selection import GroupKFold, cross_validate\n",
    "from sklearn.dummy import DummyRegressor\n",
    "from sklearn.linear_model import LinearRegression, Ridge, Lasso\n",
    "from sklearn.tree import DecisionTreeRegressor\n",
    "\n",
    "# Evaluation\n",
    "from sklearn.metrics import mean_absolute_error, mean_squared_error, r2_score, make_scorer\n",
    "\n",
    "# Utilities\n",
    "import matplotlib.pyplot as plt\n",
    "import seaborn as sns\n",
    "import joblib\n",
    "import os\n",
    "\n",
    "from sklearn.dummy import DummyClassifier\n",
    "from sklearn.linear_model import LogisticRegression\n",
    "from sklearn.tree import DecisionTreeClassifier\n",
    "from sklearn.ensemble import RandomForestClassifier\n",
    "from sklearn.metrics import (\n",
    "    accuracy_score, f1_score, precision_score, recall_score, roc_auc_score, make_scorer\n",
    ")\n",
    "import numpy as np\n",
    "import seaborn as sns\n",
    "import matplotlib.pyplot as plt\n",
    "import joblib\n",
    "import os\n"
   ]
  },
  {
   "cell_type": "markdown",
   "id": "81a51a9c",
   "metadata": {},
   "source": [
    "# Load Data"
   ]
  },
  {
   "cell_type": "code",
   "execution_count": 14,
   "id": "be61ad56",
   "metadata": {},
   "outputs": [
    {
     "name": "stdout",
     "output_type": "stream",
     "text": [
      "Dataset shape: (4829, 19)\n",
      "Target value counts:\n",
      " DeclineFlag\n",
      "0.0    0.608\n",
      "1.0    0.392\n",
      "Name: proportion, dtype: float64\n"
     ]
    }
   ],
   "source": [
    "import pandas as pd\n",
    "\n",
    "# One folder back (since notebooks/ is one level below project root)\n",
    "df = pd.read_csv(\"../data/processed/merged_clean_refined.csv\")\n",
    "\n",
    "target_col = \"DeclineFlag\"   # binary target\n",
    "group_col = \"player_id\"      # check if exists; if not, we’ll handle it below\n",
    "\n",
    "# Check for player_id or create one if missing\n",
    "if \"player_id\" not in df.columns:\n",
    "    df[\"player_id\"] = df.index  # temporary group ID for cross-validation\n",
    "\n",
    "feature_cols = [c for c in df.columns if c not in [target_col, group_col]]\n",
    "\n",
    "X = df[feature_cols]\n",
    "y = df[target_col]\n",
    "groups = df[group_col]\n",
    "\n",
    "print(\"Dataset shape:\", X.shape)\n",
    "print(\"Target value counts:\\n\", y.value_counts(normalize=True).round(3))"
   ]
  },
  {
   "cell_type": "markdown",
   "id": "f8d92d9c",
   "metadata": {},
   "source": [
    "# Define Cross-Validation & Scoring"
   ]
  },
  {
   "cell_type": "code",
   "execution_count": 17,
   "id": "e38baf47",
   "metadata": {},
   "outputs": [],
   "source": [
    "cv = GroupKFold(n_splits=5)\n",
    "\n",
    "scoring = {\n",
    "    \"accuracy\": \"accuracy\",\n",
    "    \"precision\": \"precision\",\n",
    "    \"recall\": \"recall\",\n",
    "    \"f1\": \"f1\",\n",
    "    \"roc_auc\": \"roc_auc\"\n",
    "}"
   ]
  },
  {
   "cell_type": "markdown",
   "id": "cd8ac94e",
   "metadata": {},
   "source": [
    "# Define Baseline Models"
   ]
  },
  {
   "cell_type": "code",
   "execution_count": 18,
   "id": "ac52120e",
   "metadata": {},
   "outputs": [],
   "source": [
    "models = {\n",
    "    \"Dummy\": DummyClassifier(strategy=\"most_frequent\"),\n",
    "    \"Logistic\": LogisticRegression(max_iter=500, solver=\"liblinear\"),\n",
    "    \"DecisionTree\": DecisionTreeClassifier(max_depth=5, random_state=42),\n",
    "    \"RandomForest\": RandomForestClassifier(n_estimators=100, random_state=42)\n",
    "}\n"
   ]
  },
  {
   "cell_type": "markdown",
   "id": "78a981b4",
   "metadata": {},
   "source": [
    "## Preprocessor to the Textual Cols"
   ]
  },
  {
   "cell_type": "code",
   "execution_count": 24,
   "id": "94f34156",
   "metadata": {},
   "outputs": [
    {
     "name": "stdout",
     "output_type": "stream",
     "text": [
      "Categorical columns: ['from_league', 'to_league', 'Position', 'sub_position', 'position', 'foot', 'country_of_birth', 'country_of_citizenship', 'transfer_date', 'date_of_birth', 'contract_expiration_date']\n",
      "Numerical columns: ['GA90_pre', 'GA_pre', 'PreMinutes', 'transfer_fee', 'market_value_in_eur', 'market_value_in_eur_player', 'highest_market_value_in_eur', 'height_in_cm']\n"
     ]
    }
   ],
   "source": [
    "from sklearn.compose import ColumnTransformer\n",
    "from sklearn.preprocessing import OneHotEncoder, StandardScaler\n",
    "from sklearn.impute import SimpleImputer\n",
    "from sklearn.pipeline import Pipeline\n",
    "\n",
    "# Detect column types\n",
    "cat_cols = X.select_dtypes(include=[\"object\"]).columns.tolist()\n",
    "num_cols = X.select_dtypes(exclude=[\"object\"]).columns.tolist()\n",
    "\n",
    "print(\"Categorical columns:\", cat_cols)\n",
    "print(\"Numerical columns:\", num_cols)\n",
    "\n",
    "# Define preprocessing with imputation\n",
    "numeric_transformer = Pipeline(steps=[\n",
    "    (\"imputer\", SimpleImputer(strategy=\"median\")),\n",
    "    (\"scaler\", StandardScaler())\n",
    "])\n",
    "\n",
    "categorical_transformer = Pipeline(steps=[\n",
    "    (\"imputer\", SimpleImputer(strategy=\"most_frequent\")),\n",
    "    (\"encoder\", OneHotEncoder(handle_unknown=\"ignore\"))\n",
    "])\n",
    "\n",
    "preprocessor = ColumnTransformer(\n",
    "    transformers=[\n",
    "        (\"num\", numeric_transformer, num_cols),\n",
    "        (\"cat\", categorical_transformer, cat_cols)\n",
    "    ]\n",
    ")\n",
    "\n"
   ]
  },
  {
   "cell_type": "markdown",
   "id": "7fbc1c44",
   "metadata": {},
   "source": [
    "# Cross-Validation Evaluation"
   ]
  },
  {
   "cell_type": "code",
   "execution_count": 25,
   "id": "3b5eb46a",
   "metadata": {},
   "outputs": [],
   "source": [
    "from sklearn.dummy import DummyClassifier\n",
    "from sklearn.linear_model import LogisticRegression\n",
    "from sklearn.tree import DecisionTreeClassifier\n",
    "from sklearn.ensemble import RandomForestClassifier\n",
    "\n",
    "models = {\n",
    "    \"Dummy\": Pipeline([\n",
    "        (\"preprocess\", preprocessor),\n",
    "        (\"model\", DummyClassifier(strategy=\"most_frequent\"))\n",
    "    ]),\n",
    "    \"Logistic\": Pipeline([\n",
    "        (\"preprocess\", preprocessor),\n",
    "        (\"model\", LogisticRegression(max_iter=500, solver=\"liblinear\"))\n",
    "    ]),\n",
    "    \"DecisionTree\": Pipeline([\n",
    "        (\"preprocess\", preprocessor),\n",
    "        (\"model\", DecisionTreeClassifier(max_depth=5, random_state=42))\n",
    "    ]),\n",
    "    \"RandomForest\": Pipeline([\n",
    "        (\"preprocess\", preprocessor),\n",
    "        (\"model\", RandomForestClassifier(n_estimators=100, random_state=42))\n",
    "    ])\n",
    "}\n"
   ]
  },
  {
   "cell_type": "code",
   "execution_count": 26,
   "id": "d07ee714",
   "metadata": {},
   "outputs": [
    {
     "name": "stdout",
     "output_type": "stream",
     "text": [
      "Training Dummy...\n",
      "Training Logistic...\n",
      "Training DecisionTree...\n",
      "Training RandomForest...\n"
     ]
    },
    {
     "data": {
      "text/html": [
       "<div>\n",
       "<style scoped>\n",
       "    .dataframe tbody tr th:only-of-type {\n",
       "        vertical-align: middle;\n",
       "    }\n",
       "\n",
       "    .dataframe tbody tr th {\n",
       "        vertical-align: top;\n",
       "    }\n",
       "\n",
       "    .dataframe thead th {\n",
       "        text-align: right;\n",
       "    }\n",
       "</style>\n",
       "<table border=\"1\" class=\"dataframe\">\n",
       "  <thead>\n",
       "    <tr style=\"text-align: right;\">\n",
       "      <th></th>\n",
       "      <th>model</th>\n",
       "      <th>accuracy</th>\n",
       "      <th>precision</th>\n",
       "      <th>recall</th>\n",
       "      <th>f1</th>\n",
       "      <th>roc_auc</th>\n",
       "    </tr>\n",
       "  </thead>\n",
       "  <tbody>\n",
       "    <tr>\n",
       "      <th>3</th>\n",
       "      <td>RandomForest</td>\n",
       "      <td>0.811766</td>\n",
       "      <td>0.846173</td>\n",
       "      <td>0.636686</td>\n",
       "      <td>0.725157</td>\n",
       "      <td>0.899856</td>\n",
       "    </tr>\n",
       "    <tr>\n",
       "      <th>1</th>\n",
       "      <td>Logistic</td>\n",
       "      <td>0.783804</td>\n",
       "      <td>0.761643</td>\n",
       "      <td>0.653464</td>\n",
       "      <td>0.702884</td>\n",
       "      <td>0.846749</td>\n",
       "    </tr>\n",
       "    <tr>\n",
       "      <th>2</th>\n",
       "      <td>DecisionTree</td>\n",
       "      <td>0.692899</td>\n",
       "      <td>0.686779</td>\n",
       "      <td>0.401343</td>\n",
       "      <td>0.504357</td>\n",
       "      <td>0.729796</td>\n",
       "    </tr>\n",
       "    <tr>\n",
       "      <th>0</th>\n",
       "      <td>Dummy</td>\n",
       "      <td>0.608202</td>\n",
       "      <td>0.000000</td>\n",
       "      <td>0.000000</td>\n",
       "      <td>0.000000</td>\n",
       "      <td>0.500000</td>\n",
       "    </tr>\n",
       "  </tbody>\n",
       "</table>\n",
       "</div>"
      ],
      "text/plain": [
       "          model  accuracy  precision    recall        f1   roc_auc\n",
       "3  RandomForest  0.811766   0.846173  0.636686  0.725157  0.899856\n",
       "1      Logistic  0.783804   0.761643  0.653464  0.702884  0.846749\n",
       "2  DecisionTree  0.692899   0.686779  0.401343  0.504357  0.729796\n",
       "0         Dummy  0.608202   0.000000  0.000000  0.000000  0.500000"
      ]
     },
     "execution_count": 26,
     "metadata": {},
     "output_type": "execute_result"
    }
   ],
   "source": [
    "from sklearn.model_selection import cross_validate\n",
    "import numpy as np\n",
    "import pandas as pd\n",
    "\n",
    "results = []\n",
    "\n",
    "for name, model in models.items():\n",
    "    print(f\"Training {name}...\")\n",
    "    scores = cross_validate(\n",
    "        model,\n",
    "        X, y,\n",
    "        groups=groups,\n",
    "        cv=cv,\n",
    "        scoring=scoring,\n",
    "        n_jobs=-1,\n",
    "        return_train_score=False\n",
    "    )\n",
    "\n",
    "    results.append({\n",
    "        \"model\": name,\n",
    "        \"accuracy\": np.mean(scores[\"test_accuracy\"]),\n",
    "        \"precision\": np.mean(scores[\"test_precision\"]),\n",
    "        \"recall\": np.mean(scores[\"test_recall\"]),\n",
    "        \"f1\": np.mean(scores[\"test_f1\"]),\n",
    "        \"roc_auc\": np.mean(scores[\"test_roc_auc\"])\n",
    "    })\n",
    "\n",
    "results_df = pd.DataFrame(results).sort_values(\"f1\", ascending=False)\n",
    "results_df\n"
   ]
  },
  {
   "cell_type": "markdown",
   "id": "9a57d1be",
   "metadata": {},
   "source": [
    "# Visualization of Model Performance"
   ]
  },
  {
   "cell_type": "code",
   "execution_count": 27,
   "id": "04ee3050",
   "metadata": {},
   "outputs": [
    {
     "name": "stderr",
     "output_type": "stream",
     "text": [
      "C:\\Users\\Pouya\\AppData\\Local\\Temp\\ipykernel_1792\\381423296.py:5: FutureWarning: \n",
      "\n",
      "Passing `palette` without assigning `hue` is deprecated and will be removed in v0.14.0. Assign the `x` variable to `hue` and set `legend=False` for the same effect.\n",
      "\n",
      "  sns.barplot(data=results_df, x=\"model\", y=\"f1\", palette=\"Blues_r\")\n"
     ]
    },
    {
     "data": {
      "image/png": "[encoded data removed]",
      "text/plain": [
       "<Figure size 800x500 with 1 Axes>"
      ]
     },
     "metadata": {},
     "output_type": "display_data"
    }
   ],
   "source": [
    "import seaborn as sns\n",
    "import matplotlib.pyplot as plt\n",
    "\n",
    "plt.figure(figsize=(8, 5))\n",
    "sns.barplot(data=results_df, x=\"model\", y=\"f1\", palette=\"Blues_r\")\n",
    "plt.title(\"Baseline Model Comparison (F1-score ↑)\")\n",
    "plt.ylabel(\"Mean F1-score\")\n",
    "plt.xlabel(\"\")\n",
    "plt.tight_layout()\n",
    "plt.show()\n"
   ]
  },
  {
   "cell_type": "markdown",
   "id": "8458b615",
   "metadata": {},
   "source": [
    "# Save Results Table"
   ]
  },
  {
   "cell_type": "code",
   "execution_count": 28,
   "id": "021557c3",
   "metadata": {},
   "outputs": [
    {
     "name": "stdout",
     "output_type": "stream",
     "text": [
      "Saved results to ../results/model_comparison_baselines_classification.csv\n"
     ]
    }
   ],
   "source": [
    "import os\n",
    "\n",
    "os.makedirs(\"../results\", exist_ok=True)\n",
    "results_path = \"../results/model_comparison_baselines_classification.csv\"\n",
    "results_df.to_csv(results_path, index=False)\n",
    "print(f\"Saved results to {results_path}\")\n"
   ]
  },
  {
   "cell_type": "markdown",
   "id": "e69406c8",
   "metadata": {},
   "source": [
    "# Retrain and Save the Best Model (Full Pipeline)"
   ]
  },
  {
   "cell_type": "code",
   "execution_count": 29,
   "id": "4d294954",
   "metadata": {},
   "outputs": [
    {
     "name": "stdout",
     "output_type": "stream",
     "text": [
      "Retraining best model: RandomForest\n",
      "Full pipeline (including preprocessing) saved to ../artifacts/RandomForest_baseline_pipeline.joblib\n"
     ]
    }
   ],
   "source": [
    "import joblib\n",
    "\n",
    "best_model_name = results_df.iloc[0][\"model\"]\n",
    "best_model = models[best_model_name]\n",
    "\n",
    "print(f\"Retraining best model: {best_model_name}\")\n",
    "best_model.fit(X, y)\n",
    "\n",
    "os.makedirs(\"../artifacts\", exist_ok=True)\n",
    "model_path = f\"../artifacts/{best_model_name}_baseline_pipeline.joblib\"\n",
    "joblib.dump(best_model, model_path)\n",
    "print(f\"Full pipeline (including preprocessing) saved to {model_path}\")\n"
   ]
  },
  {
   "cell_type": "markdown",
   "id": "b1f6906b",
   "metadata": {},
   "source": [
    "# Feature Importance / Coefficients"
   ]
  },
  {
   "cell_type": "code",
   "execution_count": 32,
   "id": "0773f913",
   "metadata": {},
   "outputs": [
    {
     "data": {
      "text/plain": [
       "'RandomForest'"
      ]
     },
     "execution_count": 32,
     "metadata": {},
     "output_type": "execute_result"
    }
   ],
   "source": [
    "best_model_name"
   ]
  },
  {
   "cell_type": "code",
   "execution_count": 30,
   "id": "e1bb139f",
   "metadata": {},
   "outputs": [
    {
     "name": "stderr",
     "output_type": "stream",
     "text": [
      "C:\\Users\\Pouya\\AppData\\Local\\Temp\\ipykernel_1792\\3663130511.py:18: FutureWarning: \n",
      "\n",
      "Passing `palette` without assigning `hue` is deprecated and will be removed in v0.14.0. Assign the `y` variable to `hue` and set `legend=False` for the same effect.\n",
      "\n",
      "  sns.barplot(data=imp_df.head(10), x=\"importance\", y=\"feature\", palette=\"magma\")\n"
     ]
    },
    {
     "data": {
      "image/png": "[encoded data removed]",
      "text/plain": [
       "<Figure size 800x600 with 1 Axes>"
      ]
     },
     "metadata": {},
     "output_type": "display_data"
    }
   ],
   "source": [
    "inner_model = best_model.named_steps[\"model\"]\n",
    "\n",
    "if best_model_name == \"RandomForest\":\n",
    "    # Get all encoded feature names\n",
    "    cat_cols = X.select_dtypes(include=[\"object\"]).columns.tolist()\n",
    "    num_cols = X.select_dtypes(exclude=[\"object\"]).columns.tolist()\n",
    "    encoder = best_model.named_steps[\"preprocess\"].named_transformers_[\"cat\"].named_steps[\"encoder\"]\n",
    "    encoded_cat_features = encoder.get_feature_names_out(cat_cols)\n",
    "    all_features = np.concatenate([num_cols, encoded_cat_features])\n",
    "\n",
    "    importances = inner_model.feature_importances_\n",
    "    imp_df = pd.DataFrame({\n",
    "        \"feature\": all_features,\n",
    "        \"importance\": importances\n",
    "    }).sort_values(\"importance\", ascending=False)\n",
    "\n",
    "    plt.figure(figsize=(8, 6))\n",
    "    sns.barplot(data=imp_df.head(10), x=\"importance\", y=\"feature\", palette=\"magma\")\n",
    "    plt.title(\"Top 10 Feature Importances - Random Forest\")\n",
    "    plt.show()\n"
   ]
  }
 ],
 "metadata": {
  "kernelspec": {
   "display_name": ".venv (3.10.0)",
   "language": "python",
   "name": "python3"
  },
  "language_info": {
   "codemirror_mode": {
    "name": "ipython",
    "version": 3
   },
   "file_extension": ".py",
   "mimetype": "text/x-python",
   "name": "python",
   "nbconvert_exporter": "python",
   "pygments_lexer": "ipython3",
   "version": "3.10.0"
  }
 },
 "nbformat": 4,
 "nbformat_minor": 5
}
